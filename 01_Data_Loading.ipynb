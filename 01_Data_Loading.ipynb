{
 "cells": [
  {
   "cell_type": "code",
   "execution_count": 1,
   "metadata": {},
   "outputs": [],
   "source": [
    "import snowflake.snowpark as snp\n",
    "from snowflake.snowpark import functions as F\n",
    "from snowflake.snowpark import types as T"
   ]
  },
  {
   "cell_type": "markdown",
   "metadata": {},
   "source": [
    "## Data Engineering\n",
    "We begin where all ML use cases do: data engineering. We will extract the data from the source system, load it into snowflake.\n",
    "\n",
    "Input: Historical bulk data in `csv` format. \n",
    "Output: `SQUIRRELLY_DATA` table"
   ]
  },
  {
   "cell_type": "markdown",
   "metadata": {},
   "source": [
    "### 1. Load credentials and connect to Snowflake"
   ]
  },
  {
   "cell_type": "code",
   "execution_count": 2,
   "metadata": {},
   "outputs": [],
   "source": [
    "from steps.snowpark_connection import snowpark_connect\n",
    "session, state_dict = snowpark_connect('./include/state.json')"
   ]
  },
  {
   "cell_type": "markdown",
   "metadata": {},
   "source": [
    "### 2. Create a stage for loading data to Snowflake\n"
   ]
  },
  {
   "cell_type": "code",
   "execution_count": 3,
   "metadata": {},
   "outputs": [],
   "source": [
    "state_dict['load_stage_name']='LOAD_STAGE' \n",
    "state_dict['table_name']='SQUIRRELLY_DATA'\n",
    "\n",
    "import json\n",
    "with open('./include/state.json', 'w') as sdf:\n",
    "    json.dump(state_dict, sdf)"
   ]
  },
  {
   "cell_type": "code",
   "execution_count": 4,
   "metadata": {},
   "outputs": [],
   "source": [
    "def reset_database(session, state_dict:dict):\n",
    "    _ = session.sql('CREATE OR REPLACE DATABASE '+state_dict['connection_parameters']['database']).collect()\n",
    "    _ = session.sql('CREATE SCHEMA '+state_dict['connection_parameters']['schema']).collect() \n",
    "    _ = session.sql('CREATE STAGE IF NOT EXISTS '+state_dict['load_stage_name']).collect()"
   ]
  },
  {
   "cell_type": "code",
   "execution_count": 5,
   "metadata": {},
   "outputs": [],
   "source": [
    "reset_database(session, state_dict)"
   ]
  },
  {
   "cell_type": "code",
   "execution_count": 6,
   "metadata": {},
   "outputs": [],
   "source": [
    "session.use_warehouse(state_dict['compute_parameters']['default_warehouse'])"
   ]
  },
  {
   "cell_type": "markdown",
   "metadata": {},
   "source": [
    "### 3. Extract file to a local stage"
   ]
  },
  {
   "cell_type": "code",
   "execution_count": 7,
   "metadata": {},
   "outputs": [
    {
     "name": "stdout",
     "output_type": "stream",
     "text": [
      "Putting ./data/squirrel_data.csv to stage: LOAD_STAGE\n"
     ]
    },
    {
     "data": {
      "text/plain": [
       "[PutResult(source='squirrel_data.csv', target='squirrel_data.csv.gz', source_size=535297, target_size=85088, source_compression='NONE', target_compression='GZIP', status='UPLOADED', message='')]"
      ]
     },
     "execution_count": 7,
     "metadata": {},
     "output_type": "execute_result"
    }
   ],
   "source": [
    "csv_file_name = './data/squirrel_data.csv'\n",
    "print('Putting '+csv_file_name+' to stage: '+ state_dict['load_stage_name'])\n",
    "session.file.put(local_file_name=csv_file_name, \n",
    "                     stage_location=state_dict['load_stage_name'], \n",
    "                     source_compression='NONE', \n",
    "                     overwrite=True)\n"
   ]
  },
  {
   "cell_type": "code",
   "execution_count": 8,
   "metadata": {},
   "outputs": [
    {
     "data": {
      "text/plain": [
       "[Row(name='load_stage/squirrel_data.csv.gz', size=85088, md5='a77388f1b2c7c84c36697fc9edd596df', last_modified='Wed, 7 Sep 2022 12:57:51 GMT')]"
      ]
     },
     "execution_count": 8,
     "metadata": {},
     "output_type": "execute_result"
    }
   ],
   "source": [
    "session.sql(\"list @\"+state_dict['load_stage_name']+\" pattern='.*[.]gz'\").collect()"
   ]
  },
  {
   "cell_type": "markdown",
   "metadata": {},
   "source": [
    "### 4. Load Data into Snowflake"
   ]
  },
  {
   "cell_type": "markdown",
   "metadata": {},
   "source": [
    "\n",
    "We start by defining a schema type that we will use to ingest the data."
   ]
  },
  {
   "cell_type": "code",
   "execution_count": 9,
   "metadata": {},
   "outputs": [],
   "source": [
    "load_schema = T.StructType([T.StructField(\"lon\", T.FloatType()),\n",
    "                            T.StructField(\"lat\", T.FloatType()),\n",
    "                            T.StructField(\"unique_squirrel_id\", T.StringType()),\n",
    "                            T.StructField(\"hectare\", T.StringType()),\n",
    "                            T.StructField(\"shift\", T.StringType()),\n",
    "                            T.StructField(\"date\", T.DateType()),\n",
    "                            T.StructField(\"age\", T.StringType()),\n",
    "                            T.StructField(\"primary_fur_color\", T.StringType()),\n",
    "                            T.StructField(\"highlight_fur_color\", T.StringType()),\n",
    "                            T.StructField(\"location\", T.StringType()),\n",
    "                            T.StructField(\"running\", T.BooleanType()),\n",
    "                            T.StructField(\"chasing\", T.BooleanType()),\n",
    "                            T.StructField(\"climbing\", T.BooleanType()),\n",
    "                            T.StructField(\"eating\", T.BooleanType()),\n",
    "                            T.StructField(\"foraging\", T.BooleanType()),\n",
    "                            T.StructField(\"kuks\", T.BooleanType()),\n",
    "                            T.StructField(\"quaas\", T.BooleanType()),\n",
    "                            T.StructField(\"moans\", T.BooleanType()),\n",
    "                            T.StructField(\"tail_flags\", T.BooleanType()),\n",
    "                            T.StructField(\"tail_twitches\", T.BooleanType()),\n",
    "                            T.StructField(\"approaches\", T.BooleanType()),\n",
    "                            T.StructField(\"indifferent\", T.BooleanType()),\n",
    "                            T.StructField(\"runs_from\", T.BooleanType())  \n",
    "])"
   ]
  },
  {
   "cell_type": "markdown",
   "metadata": {},
   "source": [
    "Create empty table."
   ]
  },
  {
   "cell_type": "code",
   "execution_count": 10,
   "metadata": {},
   "outputs": [],
   "source": [
    "session.create_dataframe([[None]*len(load_schema.names)], schema=load_schema)\\\n",
    "       .na.drop()\\\n",
    "       .write\\\n",
    "       .mode(\"overwrite\") \\\n",
    "       .save_as_table(state_dict['table_name'])"
   ]
  },
  {
   "cell_type": "markdown",
   "metadata": {},
   "source": [
    "Load schema"
   ]
  },
  {
   "cell_type": "code",
   "execution_count": 11,
   "metadata": {},
   "outputs": [],
   "source": [
    "csv_file_format_options = {\"FIELD_OPTIONALLY_ENCLOSED_BY\": \"'\\\"'\", \"skip_header\": 1}\n",
    "\n",
    "loaddf = session.read.option(\"SKIP_HEADER\", 1)\\\n",
    "                     .schema(load_schema)\\\n",
    "                     .csv('@'+state_dict['load_stage_name'])\\\n",
    "                     .copy_into_table(state_dict['table_name'], format_type_options=csv_file_format_options)"
   ]
  },
  {
   "cell_type": "markdown",
   "metadata": {},
   "source": [
    "Count the number of ingested records."
   ]
  },
  {
   "cell_type": "code",
   "execution_count": 12,
   "metadata": {},
   "outputs": [
    {
     "data": {
      "text/plain": [
       "3023"
      ]
     },
     "execution_count": 12,
     "metadata": {},
     "output_type": "execute_result"
    }
   ],
   "source": [
    "session.table(state_dict['table_name']).count()"
   ]
  },
  {
   "cell_type": "code",
   "execution_count": 13,
   "metadata": {},
   "outputs": [],
   "source": [
    "session.close()"
   ]
  }
 ],
 "metadata": {
  "kernelspec": {
   "display_name": "Python 3.8.13 ('squirrelly_env')",
   "language": "python",
   "name": "python3"
  },
  "language_info": {
   "codemirror_mode": {
    "name": "ipython",
    "version": 3
   },
   "file_extension": ".py",
   "mimetype": "text/x-python",
   "name": "python",
   "nbconvert_exporter": "python",
   "pygments_lexer": "ipython3",
   "version": "3.8.13"
  },
  "orig_nbformat": 4,
  "vscode": {
   "interpreter": {
    "hash": "2ba27bfd1749f7c3a7bc0f0e0b81a34114b55e33b7aa6e17a375be311f1d8668"
   }
  }
 },
 "nbformat": 4,
 "nbformat_minor": 2
}
