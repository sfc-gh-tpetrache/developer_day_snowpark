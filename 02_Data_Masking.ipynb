{
 "cells": [
  {
   "cell_type": "code",
   "execution_count": null,
   "metadata": {},
   "outputs": [],
   "source": [
    "import snowflake.snowpark as snp\n",
    "from snowflake.snowpark import functions as F"
   ]
  },
  {
   "cell_type": "markdown",
   "metadata": {},
   "source": [
    "## Data Masking\n",
    "We don't want all the users to see the age of our squirrels. We want only the internal devs to access that sensitive data.\n",
    "\n",
    "Therefore we are going to create a masking policy to dynamically protect this PII column"
   ]
  },
  {
   "cell_type": "markdown",
   "metadata": {},
   "source": [
    "### 1. Load credentials and connect to Snowflake"
   ]
  },
  {
   "cell_type": "code",
   "execution_count": null,
   "metadata": {},
   "outputs": [],
   "source": [
    "from steps.snowpark_connection import snowpark_connect\n",
    "session, state_dict = snowpark_connect('./include/state.json')\n",
    "session.use_warehouse(state_dict['compute_parameters']['default_warehouse'])"
   ]
  },
  {
   "cell_type": "code",
   "execution_count": null,
   "metadata": {},
   "outputs": [],
   "source": [
    "session.table(state_dict['table_name']).count()"
   ]
  },
  {
   "cell_type": "markdown",
   "metadata": {},
   "source": [
    "### 2. Create masking policy to protect our PII data"
   ]
  },
  {
   "cell_type": "code",
   "execution_count": null,
   "metadata": {},
   "outputs": [],
   "source": [
    "try:\n",
    "  session.sql(\"CREATE OR REPLACE MASKING POLICY mask_string_age AS \\\n",
    "      (val STRING) RETURNS STRING -> \\\n",
    "      CASE \\\n",
    "      WHEN CURRENT_ROLE() in ('INTERNAL_USER') THEN val \\\n",
    "        ELSE '**masked**'\\\n",
    "      END;\").collect()\n",
    "except:\n",
    "    pass"
   ]
  },
  {
   "cell_type": "markdown",
   "metadata": {},
   "source": [
    "Apply the masking policy to table"
   ]
  },
  {
   "cell_type": "code",
   "execution_count": null,
   "metadata": {},
   "outputs": [],
   "source": [
    "session.sql(\"ALTER TABLE \"+ state_dict['table_name'] +\" MODIFY COLUMN AGE SET MASKING POLICY mask_string_age;\").collect()"
   ]
  },
  {
   "cell_type": "code",
   "execution_count": null,
   "metadata": {},
   "outputs": [],
   "source": [
    "session.sql(\"grant usage on database \"+ state_dict['connection_parameters']['database'] +\" to role PUBLIC;\").collect()\n",
    "session.sql(\"grant usage on schema \" + state_dict['connection_parameters']['database'] + \".\"+ state_dict['connection_parameters']['schema']+ \" to role PUBLIC;\").collect()\n",
    "session.sql(\"grant select on table \"+ state_dict['connection_parameters']['database'] + \".\"+ state_dict['connection_parameters']['schema']+ \".\" +  state_dict['table_name'] + \" to role PUBLIC;\").collect()\n"
   ]
  },
  {
   "cell_type": "markdown",
   "metadata": {},
   "source": [
    "See the masking policy in action. And a bit of Snowpark magic"
   ]
  },
  {
   "cell_type": "code",
   "execution_count": null,
   "metadata": {},
   "outputs": [],
   "source": [
    "session.use_role(state_dict['additional_roles']['default_role'])\n",
    "session.table(state_dict['table_name']).select(F.col(\"age\")).limit(5).show()"
   ]
  },
  {
   "cell_type": "code",
   "execution_count": null,
   "metadata": {},
   "outputs": [],
   "source": [
    "session.use_role(state_dict['additional_roles']['project_role'])\n",
    "session.table(state_dict['table_name']).select(F.col(\"age\")).limit(5).show()"
   ]
  },
  {
   "cell_type": "markdown",
   "metadata": {},
   "source": [
    "### 3. (Optional) Behind the scenes"
   ]
  },
  {
   "cell_type": "code",
   "execution_count": null,
   "metadata": {},
   "outputs": [],
   "source": [
    "# (optional) behind the scenes\n",
    "session.sql(\"SELECT query_type,query_text \"+\n",
    "            \"FROM TABLE(information_schema.query_history()) \"+\n",
    "            \"ORDER BY start_time DESC \"+\n",
    "            \"LIMIT 2\").show(max_width=200)"
   ]
  },
  {
   "cell_type": "code",
   "execution_count": null,
   "metadata": {},
   "outputs": [],
   "source": [
    "session.close()"
   ]
  }
 ],
 "metadata": {
  "kernelspec": {
   "display_name": "Python 3.8.13 ('squirrelly_env')",
   "language": "python",
   "name": "python3"
  },
  "language_info": {
   "codemirror_mode": {
    "name": "ipython",
    "version": 3
   },
   "file_extension": ".py",
   "mimetype": "text/x-python",
   "name": "python",
   "nbconvert_exporter": "python",
   "pygments_lexer": "ipython3",
   "version": "3.8.13"
  },
  "orig_nbformat": 4,
  "vscode": {
   "interpreter": {
    "hash": "2ba27bfd1749f7c3a7bc0f0e0b81a34114b55e33b7aa6e17a375be311f1d8668"
   }
  }
 },
 "nbformat": 4,
 "nbformat_minor": 2
}
