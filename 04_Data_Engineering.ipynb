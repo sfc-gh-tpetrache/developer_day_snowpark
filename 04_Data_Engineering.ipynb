{
 "cells": [
  {
   "cell_type": "code",
   "execution_count": null,
   "metadata": {},
   "outputs": [],
   "source": [
    "import snowflake.snowpark as snp\n",
    "from snowflake.snowpark import functions as F\n",
    "from snowflake.snowpark import types as T\n",
    "import pandas as pd\n",
    "import seaborn as sns\n",
    "import matplotlib.pyplot as plt"
   ]
  },
  {
   "cell_type": "markdown",
   "metadata": {},
   "source": [
    "## ML Engineering\n",
    "\n",
    "- In this section of the demo, we will utilize Snowpark's Python client-side Dataframe API to do some feature engineering.\n",
    "- In the second part, we will use Weather data from the Marketplace to check wether squirrels can predict a bad winter... \n",
    "    - This is not something a regular Data Engineer would do, but looks like we have a squirrel fan here : )\n"
   ]
  },
  {
   "cell_type": "markdown",
   "metadata": {},
   "source": [
    "### 1. Load  credentials and connect to Snowflake"
   ]
  },
  {
   "cell_type": "code",
   "execution_count": null,
   "metadata": {},
   "outputs": [],
   "source": [
    "from steps.snowpark_connection import snowpark_connect\n",
    "session, state_dict = snowpark_connect('./include/state.json')\n",
    "print(session.sql('select current_warehouse(), current_database(), current_schema()').collect())"
   ]
  },
  {
   "cell_type": "markdown",
   "metadata": {},
   "source": [
    "\n",
    "We will use Snowpark to do feature engineering and utilize Snowflake warehouses and compute.\n",
    "\n",
    "Snowpark Python offers a very similar API to query and transform data in Snowflake entirely using Snowflake virtual warehouses.\n",
    "\n",
    " - Snowpark operations are executed lazily on the server, which reduces the amount of data transferred between your client and the Snowflake database.\n",
    "\n",
    "- The core abstraction in Snowpark is the DataFrame, which represents a set of data and provides methods to operate on that data. In your client code, you construct a DataFrame object and set it up to retrieve the data that you want to use (for example, the columns containing the data, the filter to apply to rows, etc.).\n",
    "\n",
    "- The data isn’t retrieved at the time when you construct the DataFrame object. Instead, when you are ready to retrieve the data, you can perform an action that evaluates the DataFrame objects and sends the corresponding SQL statements to the Snowflake database for execution.\n"
   ]
  },
  {
   "cell_type": "markdown",
   "metadata": {},
   "source": [
    "### 2.  Load Data"
   ]
  },
  {
   "cell_type": "code",
   "execution_count": null,
   "metadata": {},
   "outputs": [],
   "source": [
    "snowdf = session.table(state_dict['table_name'])"
   ]
  },
  {
   "cell_type": "markdown",
   "metadata": {},
   "source": [
    "### 3.  Feature Engineering"
   ]
  },
  {
   "cell_type": "markdown",
   "metadata": {},
   "source": [
    "Experts say that a squirrel might show signs of stress when it makes certain sounds (kuks or quaas) or flags its tail. \n",
    "Learn how squirrles talk in only 3 minutes: https://www.youtube.com/watch?v=r6y3moxAtXQ\n",
    "\n",
    "Below we are summarizing a squirrel's complex hbehaviour into 3 main categories in order to assess their state of mind. We want to know if a squirrel:\n",
    "* is active\n",
    "* is stressed by predators or simply in distress\n",
    "* feels comfy around humans\n",
    "\n",
    "We are going to use these high-level characteristics to find the happiest squirrels in Central Park!"
   ]
  },
  {
   "cell_type": "code",
   "execution_count": null,
   "metadata": {},
   "outputs": [],
   "source": [
    "def generate_features(snowdf):\n",
    "    snowdf = snowdf.with_column('HAS_ACTIVITY',F.when( \\\n",
    "                                             (F.col(\"RUNNING\").cast(\"int\") + F.col(\"CHASING\").cast(\"int\") + F.col(\"CLIMBING\").cast(\"int\") + \\\n",
    "                                             F.col(\"EATING\").cast(\"int\") + F.col(\"FORAGING\").cast(\"int\")) >=1, F.lit(1)) \\\n",
    "                                             .otherwise(F.lit(0))) \\\n",
    "               .with_column('IS_STRESSED', F.when( \\\n",
    "                                             (F.col(\"KUKS\").cast(\"int\") + F.col(\"QUAAS\").cast(\"int\") + F.col(\"TAIL_FLAGS\").cast(\"int\")) >=1, F.lit(1)) \\\n",
    "                                             .otherwise(F.lit(0))) \\\n",
    "               .with_column('COMFY_WITH_HUMANS', F.when( \\\n",
    "                                             (F.col(\"APPROACHES\").cast(\"int\") + F.col(\"INDIFFERENT\").cast(\"int\") + F.col(\"TAIL_TWITCHES\").cast(\"int\")) >=1, F.lit(1)) \\\n",
    "                                             .otherwise(F.lit(0))) \n",
    "    return snowdf\n",
    "     \n"
   ]
  },
  {
   "cell_type": "code",
   "execution_count": null,
   "metadata": {},
   "outputs": [],
   "source": [
    "snowdf_transformed = generate_features(snowdf)"
   ]
  },
  {
   "cell_type": "code",
   "execution_count": null,
   "metadata": {},
   "outputs": [],
   "source": [
    "snowdf_transformed.select(F.col('COMFY_WITH_HUMANS'),F.col(\"APPROACHES\"), F.col(\"INDIFFERENT\"), F.col(\"TAIL_TWITCHES\")).show(10)\n"
   ]
  },
  {
   "cell_type": "markdown",
   "metadata": {},
   "source": [
    "Now let's instantly and securely access up-to-date weather information to uncover insights about the winter. "
   ]
  },
  {
   "cell_type": "markdown",
   "metadata": {},
   "source": [
    "### 4. Browse the Marketplace\n",
    "Log in to the Snowflake UI with the `Jack` user and password created in step 00-Setup.  \n",
    "  \n",
    "Click on [Marketplace](https://app.snowflake.com/marketplace) on the left side bar.\n",
    "\n",
    "You will see many different types of data ranging from finance and trading to COVID statistics and geospatial datasets.  \n",
    "  \n",
    "Search for `Snowpark` in the search bar at the top. And select the tile named [Snowpark for Python - Hands-on-Lab - Weather Data](https://app.snowflake.com/marketplace/listing/GZSOZ1LLE9)."
   ]
  },
  {
   "cell_type": "markdown",
   "metadata": {},
   "source": [
    "This dataset is provided by Weather Source for the Snowpark hands-on-lab and provides OnPoint Historical Weather Data in daily format for New York City ZIP Code - 10007.  \n",
    "  \n",
    "The sample data is in Celcius and covers the time period from June 1, 2013 to present. The data is updated daily and includes the following supported weather parameters: precipitation, temperature, wind speed & direction and humidity.\n",
    "\n",
    "- Click on `Get Data` on the right side. \n",
    "- Click on `Options`.\n",
    "- Enter `SQUIRRELY_WEATHER` for the database name.  \n",
    "- Select `ACCOUNTADMIN` as additional role.  \n",
    "- Read the terms and conditions and click on `Get Data`."
   ]
  },
  {
   "cell_type": "code",
   "execution_count": null,
   "metadata": {},
   "outputs": [],
   "source": [
    "from IPython.core.display import Image\n",
    "Image(filename='./include/marketplace.png')"
   ]
  },
  {
   "cell_type": "code",
   "execution_count": null,
   "metadata": {},
   "outputs": [],
   "source": [
    "state_dict['weather_database_name'] = 'SQUIRRELY_WEATHER'\n",
    "state_dict['weather_table_name'] = state_dict['weather_database_name']+'.ONPOINT_ID.HISTORY_DAY'\n",
    "state_dict['weather_view_name'] = 'WEATHER'\n",
    "import json\n",
    "with open('./include/state.json', 'w') as sdf:\n",
    "    json.dump(state_dict, sdf)"
   ]
  },
  {
   "cell_type": "code",
   "execution_count": null,
   "metadata": {},
   "outputs": [],
   "source": [
    "def generate_weather_df(session, weather_table_name):\n",
    "\n",
    "    weather_df = session.table(weather_table_name)\\\n",
    "                       .filter(F.col('POSTAL_CODE') == '10007')\\\n",
    "                       .select(F.col('DATE_VALID_STD').alias('DATE'), \n",
    "                               F.col('TOT_PRECIPITATION_MM').alias('PRECIP'), \n",
    "                               F.round(F.col('AVG_TEMPERATURE_FEELSLIKE_2M_C'), 2).alias('TEMP'))\\\n",
    "                       .sort('DATE', ascending=True)\n",
    "    return weather_df"
   ]
  },
  {
   "cell_type": "code",
   "execution_count": null,
   "metadata": {},
   "outputs": [],
   "source": [
    "\n",
    "weather_df = generate_weather_df(session, state_dict['weather_table_name'])\n",
    "weather_df.show()\n",
    "weather_df.select(F.min('DATE'), F.max('DATE')).show()"
   ]
  },
  {
   "cell_type": "code",
   "execution_count": null,
   "metadata": {},
   "outputs": [],
   "source": [
    "train_snowdf = snowdf_transformed.join(weather_df, 'DATE', 'inner').sort('DATE', ascending=True)\n",
    "train_snowdf.show(2)"
   ]
  },
  {
   "cell_type": "markdown",
   "metadata": {},
   "source": [
    "Again, check the date range after the join."
   ]
  },
  {
   "cell_type": "code",
   "execution_count": null,
   "metadata": {},
   "outputs": [],
   "source": [
    "train_snowdf.select(F.min('DATE'), F.max('DATE')).show()"
   ]
  },
  {
   "cell_type": "markdown",
   "metadata": {},
   "source": [
    "### 5. Save results back to Snowflake"
   ]
  },
  {
   "cell_type": "code",
   "execution_count": null,
   "metadata": {},
   "outputs": [],
   "source": [
    "# save engineered features back to snowflake\n",
    "train_snowdf.write.mode(\"overwrite\").save_as_table(\"squirrels_engineered_features\")"
   ]
  },
  {
   "cell_type": "markdown",
   "metadata": {},
   "source": [
    "### 6. (Optional) Test Hypothesis"
   ]
  },
  {
   "cell_type": "markdown",
   "metadata": {},
   "source": [
    " Squirrels gathering nuts in a flurry, Will cause snow to gather in a hurry!!!\n",
    " - We want to test if the squirrely activity is a predictor for "
   ]
  },
  {
   "cell_type": "code",
   "execution_count": null,
   "metadata": {},
   "outputs": [],
   "source": [
    "train_agg = train_snowdf.group_by(F.col('DATE')).agg([F.avg(F.col('TEMP')), F.count(F.col('UNIQUE_SQUIRREL_ID'))]) \\\n",
    "    .with_column_renamed(F.col(\"AVG(TEMP)\") , \"TEMP\") \\\n",
    "    .with_column_renamed(F.col(\"COUNT(UNIQUE_SQUIRREL_ID)\") , \"CNT\")\n",
    "\n",
    "train_agg.show(2)"
   ]
  },
  {
   "cell_type": "code",
   "execution_count": null,
   "metadata": {},
   "outputs": [],
   "source": [
    "df = train_agg.to_pandas()\n",
    "df.head()"
   ]
  },
  {
   "cell_type": "code",
   "execution_count": null,
   "metadata": {},
   "outputs": [],
   "source": [
    "%matplotlib inline\n",
    "plt.style.use('seaborn-darkgrid')\n",
    "plt.figure(figsize=(15, 8))\n",
    "df1 = pd.melt(df, id_vars=['DATE'], value_vars=['CNT', 'TEMP'])\n",
    "ax = sns.lineplot(x='DATE', y='value', hue='variable', data=df1)"
   ]
  },
  {
   "cell_type": "markdown",
   "metadata": {},
   "source": [
    "Let's calculate historical temparature for January and check if the census tells us something valuable!"
   ]
  },
  {
   "cell_type": "code",
   "execution_count": null,
   "metadata": {},
   "outputs": [],
   "source": [
    "# calculate average weather temperatures in January, which is know to be the coldest month in NY\n",
    "weather_subset = weather_df.select(F.year(F.col('DATE')).alias(\"YEAR\"), F.month(F.col('DATE')).alias(\"MONTH\"), F.col('TEMP')) \\\n",
    "    .filter((F.col('MONTH')==1) & (F.col('YEAR')<=2019))\n",
    "weather_subset.group_by(F.col('YEAR'), F.col('MONTH')).avg(F.col('TEMP')).sort('YEAR', ascending=True).show()"
   ]
  },
  {
   "cell_type": "markdown",
   "metadata": {},
   "source": [
    "Hmmm, it's seems that we do not have enough data to make any conclusions. But we can always start our own yearly squirrel census to validate this hypothesis!"
   ]
  },
  {
   "cell_type": "code",
   "execution_count": null,
   "metadata": {},
   "outputs": [],
   "source": [
    "session.close()"
   ]
  }
 ],
 "metadata": {
  "kernelspec": {
   "display_name": "Python 3.8.13 ('squirrelly_env')",
   "language": "python",
   "name": "python3"
  },
  "language_info": {
   "codemirror_mode": {
    "name": "ipython",
    "version": 3
   },
   "file_extension": ".py",
   "mimetype": "text/x-python",
   "name": "python",
   "nbconvert_exporter": "python",
   "pygments_lexer": "ipython3",
   "version": "3.8.13"
  },
  "orig_nbformat": 4,
  "vscode": {
   "interpreter": {
    "hash": "2ba27bfd1749f7c3a7bc0f0e0b81a34114b55e33b7aa6e17a375be311f1d8668"
   }
  }
 },
 "nbformat": 4,
 "nbformat_minor": 2
}
